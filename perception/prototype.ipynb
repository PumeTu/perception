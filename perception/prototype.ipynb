{
 "cells": [
  {
   "cell_type": "code",
   "execution_count": 2,
   "metadata": {},
   "outputs": [],
   "source": [
    "import torch\n",
    "import torch.utils.data as data\n",
    "import torchvision.transforms as transforms\n",
    "import pandas as pd"
   ]
  },
  {
   "cell_type": "code",
   "execution_count": 60,
   "metadata": {},
   "outputs": [],
   "source": [
    "class BDD100k(data.Dataset):\n",
    "    def __init__(self, root: str = '../bdd100k/', transforms: transforms = None, training: bool = False):\n",
    "        self.root = root\n",
    "        self.training = training\n",
    "        self.det_path = self.root + 'labels/det_20/det_train.json' if self.training else self.root + 'labels/det_20/det_val.json'\n",
    "        self.lane_path = self.root + 'labels/lane/masks/train/' if self.training else self.root + 'labels/lane/masks/val/'\n",
    "        self.drivable_path = self.root + 'labels/drivable/masks/train/' if self.training else self.root + 'labels/drivable/masks/val/' \n",
    "        detections = pd.read_json(self.det_path)\n",
    "        attributes = pd.DataFrame.from_records(detections.attributes)\n",
    "        self.detections = pd.concat([detections.drop(labels='attributes', axis=1), attributes], axis=1)\n",
    "\n",
    "    def __len__(self):\n",
    "        return len(self.detections)\n",
    "\n",
    "    def __getitem__(self, index):\n",
    "        target = self.detections.iloc[index]\n",
    "        annotations = target.labels\n",
    "        for object in annotations:\n",
    "            bbox = object['box2d']"
   ]
  },
  {
   "cell_type": "code",
   "execution_count": 54,
   "metadata": {},
   "outputs": [],
   "source": [
    "root = '/home/pumetu/data/bdd100k/'\n",
    "training = False\n",
    "det_path = root + 'labels/det_20/det_train.json' if training else root + 'labels/det_20/det_val.json'\n",
    "lane_path = root + 'labels/lane/masks/train/' if training else root + 'labels/lane/masks/val/'\n",
    "drivable_path = root + 'labels/drivable/train/' if training else root + 'labels/drivable/train/'\n",
    "#format dataframe\n",
    "detections = pd.read_json(det_path)\n",
    "attributes = pd.DataFrame.from_records(detections.attributes)\n",
    "detections = pd.concat([detections.drop(labels='attributes', axis=1), attributes], axis=1)"
   ]
  },
  {
   "cell_type": "code",
   "execution_count": 61,
   "metadata": {},
   "outputs": [
    {
     "name": "stdout",
     "output_type": "stream",
     "text": [
      "{'x1': 819.464053, 'y1': 280.082505, 'x2': 889.23726, 'y2': 312.742305}\n",
      "{'x1': 1027.299139, 'y1': 290.47426, 'x2': 1052.536255, 'y2': 306.804159}\n",
      "{'x1': 1061.443474, 'y1': 234.061879, 'x2': 1134.185754, 'y2': 265.237142}\n",
      "{'x1': 1005.031094, 'y1': 263.752617, 'x2': 1030.26821, 'y2': 280.082518}\n"
     ]
    }
   ],
   "source": [
    "target = detections.iloc[1]\n",
    "annotations = target.labels\n",
    "for object in annotations:\n",
    "    print(object['box2d'])"
   ]
  },
  {
   "cell_type": "code",
   "execution_count": null,
   "metadata": {},
   "outputs": [],
   "source": []
  }
 ],
 "metadata": {
  "kernelspec": {
   "display_name": "perception",
   "language": "python",
   "name": "python3"
  },
  "language_info": {
   "codemirror_mode": {
    "name": "ipython",
    "version": 3
   },
   "file_extension": ".py",
   "mimetype": "text/x-python",
   "name": "python",
   "nbconvert_exporter": "python",
   "pygments_lexer": "ipython3",
   "version": "3.10.8 (main, Nov 24 2022, 14:13:03) [GCC 11.2.0]"
  },
  "orig_nbformat": 4,
  "vscode": {
   "interpreter": {
    "hash": "8f689a27dda99338af452429237fd85534224f4d0689c88a25d3ce08700243a1"
   }
  }
 },
 "nbformat": 4,
 "nbformat_minor": 2
}
